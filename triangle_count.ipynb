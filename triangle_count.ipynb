{
 "cells": [
  {
   "cell_type": "markdown",
   "id": "68463f3b",
   "metadata": {},
   "source": [
    "# Count and output graphs on `num_vertex` vertices with `num_triangle` triangles.\n",
    "_Note_: We change the arguments in the python file everytime, since passing command line arguments does weird things with parallel processes."
   ]
  },
  {
   "cell_type": "markdown",
   "id": "ffa7a067",
   "metadata": {},
   "source": [
    "## 1a. $n = 5, t = 4$\n",
    "Enumerate all 5-vertex graphs with 4 triangles."
   ]
  },
  {
   "cell_type": "code",
   "execution_count": 1,
   "id": "39cb42cd",
   "metadata": {},
   "outputs": [
    {
     "name": "stdout",
     "output_type": "stream",
     "text": [
      "Generating all graphs with 5 vertices and 4 triangles (including 012, 013)\n",
      "Removed triangles: {(0, 2, 4) (0, 3, 4) (1, 3, 4) (1, 2, 4) }\n",
      "Available triangles: {(0, 1, 4), (1, 2, 3), (0, 2, 3), (2, 3, 4)}\n",
      "Generated 6 many graphs.\n",
      "Found a P3-hat-free graph on at least 4 triangles and 5 vertices:\n",
      "((0, 1, 2), (0, 1, 3), (1, 2, 3), (0, 2, 3))\n",
      "Finished iteration.\n",
      "CPU times: user 58.9 ms, sys: 1.11 ms, total: 60 ms\n",
      "Wall time: 3.29 s\n"
     ]
    }
   ],
   "source": [
    "%%time\n",
    "!python3 triangle_count_parallel.py"
   ]
  },
  {
   "cell_type": "markdown",
   "id": "3be75b67",
   "metadata": {},
   "source": [
    "### Check output\n",
    "![(5,4)-0](./output-img/5-vertex-4-triangles-P3-hat-free-((0,1,2),(0,1,3),(1,2,3),(0,2,3)).png)"
   ]
  },
  {
   "cell_type": "markdown",
   "id": "2b30ae95",
   "metadata": {},
   "source": [
    "## 1b. $n=5, t=5$\n",
    "Enumerate all 5-vertex graphs with 5 triangles"
   ]
  },
  {
   "cell_type": "code",
   "execution_count": 2,
   "id": "1d48b3ee",
   "metadata": {},
   "outputs": [
    {
     "name": "stdout",
     "output_type": "stream",
     "text": [
      "Generating all graphs with 5 vertices and 5 triangles (including 012, 013)\n",
      "Removed triangles: {(0, 2, 4) (0, 3, 4) (1, 3, 4) (1, 2, 4) }\n",
      "Available triangles: {(0, 1, 4), (1, 2, 3), (0, 2, 3), (2, 3, 4)}\n",
      "Generated 4 many graphs.\n",
      "Finished iteration.\n",
      "CPU times: user 41.7 ms, sys: 15.2 ms, total: 56.8 ms\n",
      "Wall time: 2.9 s\n"
     ]
    }
   ],
   "source": [
    "%%time\n",
    "!python3 triangle_count_parallel.py"
   ]
  },
  {
   "cell_type": "markdown",
   "id": "945a77a4",
   "metadata": {},
   "source": [
    "## 2a. $n=6, t=5$\n",
    "Enumerate all 6-vertex graphs with 5 triangles"
   ]
  },
  {
   "cell_type": "code",
   "execution_count": 3,
   "id": "6a6fa642",
   "metadata": {},
   "outputs": [
    {
     "name": "stdout",
     "output_type": "stream",
     "text": [
      "Generating all graphs with 6 vertices and 5 triangles (including 012, 013)\n",
      "Removed triangles: {(1, 2, 5) (0, 2, 4) (0, 3, 5) (1, 2, 4) (1, 3, 5) (0, 3, 4) (1, 3, 4) (0, 2, 5) }\n",
      "Available triangles: {(1, 4, 5), (2, 4, 5), (0, 1, 5), (0, 2, 3), (2, 3, 5), (0, 1, 4), (1, 2, 3), (3, 4, 5), (2, 3, 4), (0, 4, 5)}\n",
      "Generated 120 many graphs.\n",
      "Found a P3-hat-free graph on at least 5 triangles and 6 vertices:\n",
      "((0, 1, 2), (0, 1, 3), (1, 4, 5), (0, 2, 3), (1, 2, 3))\n",
      "Found a P3-hat-free graph on at least 5 triangles and 6 vertices:\n",
      "((0, 1, 2), (0, 1, 3), (2, 4, 5), (0, 2, 3), (1, 2, 3))\n",
      "Found a P3-hat-free graph on at least 5 triangles and 6 vertices:\n",
      "((0, 1, 2), (0, 1, 3), (0, 2, 3), (1, 2, 3), (3, 4, 5))\n",
      "Found a P3-hat-free graph on at least 5 triangles and 6 vertices:\n",
      "((0, 1, 2), (0, 1, 3), (0, 2, 3), (1, 2, 3), (0, 4, 5))\n",
      "Finished iteration.\n",
      "CPU times: user 63.9 ms, sys: 22.6 ms, total: 86.4 ms\n",
      "Wall time: 4.12 s\n"
     ]
    }
   ],
   "source": [
    "%%time\n",
    "!python3 triangle_count_parallel.py"
   ]
  },
  {
   "cell_type": "markdown",
   "id": "ee9b16dd",
   "metadata": {},
   "source": [
    "### Check Output\n",
    "\n",
    "|![6,5-graph1](output-img/6-vertex-5-triangles-P3-hat-free-((0,1,2),(0,1,3),(0,2,3),(1,2,3),(0,4,5)).png) |![6,5-graph2](output-img/6-vertex-5-triangles-P3-hat-free-((0,1,2),(0,1,3),(0,2,3),(1,2,3),(3,4,5)).png)|\n",
    "|-|-|\n",
    "|![6,5-graph3](output-img/6-vertex-5-triangles-P3-hat-free-((0,1,2),(0,1,3),(1,4,5),(0,2,3),(1,2,3)).png)|![6,5-graph4](output-img/6-vertex-5-triangles-P3-hat-free-((0,1,2),(0,1,3),(2,4,5),(0,2,3),(1,2,3)).png)|\n"
   ]
  },
  {
   "cell_type": "markdown",
   "id": "f3c9f4de",
   "metadata": {},
   "source": [
    "## 2b. $n=6, t=6$\n",
    "Enumerate all graphs on 6 vertices and 6 triangles "
   ]
  },
  {
   "cell_type": "code",
   "execution_count": 4,
   "id": "f1c31da6",
   "metadata": {},
   "outputs": [
    {
     "name": "stdout",
     "output_type": "stream",
     "text": [
      "Generating all graphs with 6 vertices and 6 triangles (including 012, 013)\n",
      "Removed triangles: {(1, 2, 5) (0, 2, 4) (0, 3, 5) (1, 2, 4) (1, 3, 5) (0, 3, 4) (1, 3, 4) (0, 2, 5) }\n",
      "Available triangles: {(1, 4, 5), (2, 4, 5), (0, 1, 5), (0, 2, 3), (2, 3, 5), (0, 1, 4), (1, 2, 3), (3, 4, 5), (2, 3, 4), (0, 4, 5)}\n",
      "Generated 210 many graphs.\n",
      "Finished iteration.\n",
      "CPU times: user 50.2 ms, sys: 10.3 ms, total: 60.5 ms\n",
      "Wall time: 3.11 s\n"
     ]
    }
   ],
   "source": [
    "%%time\n",
    "!python3 triangle_count_parallel.py"
   ]
  },
  {
   "cell_type": "markdown",
   "id": "1a66c56f",
   "metadata": {},
   "source": [
    "## 3a. $n=7, t=8$\n",
    "Enumerate all graphs on 7 vertices and 8 triangles"
   ]
  },
  {
   "cell_type": "code",
   "execution_count": 5,
   "id": "6e863874",
   "metadata": {},
   "outputs": [
    {
     "name": "stdout",
     "output_type": "stream",
     "text": [
      "Generating all graphs with 7 vertices and 8 triangles (including 012, 013)\n",
      "Removed triangles: {(0, 3, 6) (1, 2, 5) (1, 3, 6) (0, 2, 4) (0, 3, 5) (1, 2, 4) (1, 3, 5) (0, 2, 6) (0, 3, 4) (1, 2, 6) (1, 3, 4) (0, 2, 5) }\n",
      "Available triangles: {(3, 5, 6), (0, 1, 6), (4, 5, 6), (1, 4, 5), (2, 4, 5), (2, 3, 6), (0, 5, 6), (1, 5, 6), (0, 1, 5), (2, 5, 6), (3, 4, 6), (0, 2, 3), (2, 3, 5), (0, 4, 6), (0, 1, 4), (1, 2, 3), (1, 4, 6), (3, 4, 5), (2, 3, 4), (2, 4, 6), (0, 4, 5)}\n",
      "Generated 54264 many graphs.\n",
      "Found a P3-hat-free graph on at least 8 triangles and 7 vertices:\n",
      "((0, 1, 2), (0, 1, 3), (3, 5, 6), (4, 5, 6), (3, 4, 6), (0, 2, 3), (1, 2, 3), (3, 4, 5))\n",
      "Found a P3-hat-free graph on at least 8 triangles and 7 vertices:\n",
      "((0, 1, 2), (0, 1, 3), (4, 5, 6), (1, 4, 5), (1, 5, 6), (0, 2, 3), (1, 2, 3), (1, 4, 6))\n",
      "Found a P3-hat-free graph on at least 8 triangles and 7 vertices:\n",
      "((0, 1, 2), (0, 1, 3), (4, 5, 6), (2, 4, 5), (2, 5, 6), (0, 2, 3), (1, 2, 3), (2, 4, 6))\n",
      "Found a P3-hat-free graph on at least 8 triangles and 7 vertices:\n",
      "((0, 1, 2), (0, 1, 3), (4, 5, 6), (0, 5, 6), (0, 2, 3), (0, 4, 6), (1, 2, 3), (0, 4, 5))\n",
      "Finished iteration.\n",
      "CPU times: user 118 ms, sys: 12 ms, total: 130 ms\n",
      "Wall time: 7.18 s\n"
     ]
    }
   ],
   "source": [
    "%%time\n",
    "!python3 triangle_count_parallel.py"
   ]
  },
  {
   "cell_type": "markdown",
   "id": "0de9f54c",
   "metadata": {},
   "source": [
    "### Check Output\n",
    "\n",
    "|![7,8-graph1](output-img/7-vertex-8-triangles-P3-hat-free-((0,1,2),(0,1,3),(3,5,6),(4,5,6),(3,4,6),(0,2,3),(1,2,3),(3,4,5)).png) |![7,8-graph2](output-img/7-vertex-8-triangles-P3-hat-free-((0,1,2),(0,1,3),(4,5,6),(0,5,6),(0,2,3),(0,4,6),(1,2,3),(0,4,5)).png)|\n",
    "|-|-|\n",
    "|![7,8-graph3](output-img/7-vertex-8-triangles-P3-hat-free-((0,1,2),(0,1,3),(4,5,6),(1,4,5),(1,5,6),(0,2,3),(1,2,3),(1,4,6)).png)|![7,8-graph4](output-img/7-vertex-8-triangles-P3-hat-free-((0,1,2),(0,1,3),(4,5,6),(2,4,5),(2,5,6),(0,2,3),(1,2,3),(2,4,6)).png)|\n"
   ]
  },
  {
   "cell_type": "markdown",
   "id": "3c5d969c",
   "metadata": {},
   "source": [
    "## 3b. $n=7, t=9$\n",
    "Enumerate all graphs on 7 vertices and 9 triangles"
   ]
  },
  {
   "cell_type": "code",
   "execution_count": 6,
   "id": "2518f753",
   "metadata": {},
   "outputs": [
    {
     "name": "stdout",
     "output_type": "stream",
     "text": [
      "Generating all graphs with 7 vertices and 9 triangles (including 012, 013)\n",
      "Removed triangles: {(0, 3, 6) (1, 2, 5) (1, 3, 6) (0, 2, 4) (0, 3, 5) (1, 2, 4) (1, 3, 5) (0, 2, 6) (0, 3, 4) (1, 2, 6) (1, 3, 4) (0, 2, 5) }\n",
      "Available triangles: {(3, 5, 6), (0, 1, 6), (4, 5, 6), (1, 4, 5), (2, 4, 5), (2, 3, 6), (0, 5, 6), (1, 5, 6), (0, 1, 5), (2, 5, 6), (3, 4, 6), (0, 2, 3), (2, 3, 5), (0, 4, 6), (0, 1, 4), (1, 2, 3), (1, 4, 6), (3, 4, 5), (2, 3, 4), (2, 4, 6), (0, 4, 5)}\n",
      "Generated 116280 many graphs.\n",
      "Finished iteration.\n",
      "CPU times: user 133 ms, sys: 29.1 ms, total: 162 ms\n",
      "Wall time: 10.3 s\n"
     ]
    }
   ],
   "source": [
    "%%time\n",
    "!python triangle_count_parallel.py"
   ]
  },
  {
   "cell_type": "markdown",
   "id": "8069a38c",
   "metadata": {},
   "source": [
    "## 4a. $n=8, t=8$\n",
    "Enumerate all graphs on 8 vertices and 8 triangles"
   ]
  },
  {
   "cell_type": "code",
   "execution_count": 7,
   "id": "949c015c",
   "metadata": {},
   "outputs": [
    {
     "name": "stdout",
     "output_type": "stream",
     "text": [
      "Generating all graphs with 8 vertices and 8 triangles (including 012, 013)\n",
      "Removed triangles: {(0, 3, 6) (1, 2, 5) (1, 3, 6) (0, 2, 7) (0, 2, 4) (0, 3, 5) (1, 2, 4) (1, 2, 7) (1, 3, 5) (0, 2, 6) (0, 3, 7) (0, 3, 4) (1, 2, 6) (1, 3, 4) (1, 3, 7) (0, 2, 5) }\n",
      "Available triangles: {(0, 5, 7), (3, 5, 6), (1, 5, 7), (0, 1, 6), (2, 5, 7), (4, 5, 6), (4, 6, 7), (1, 4, 5), (3, 4, 7), (2, 4, 5), (3, 6, 7), (2, 3, 6), (0, 4, 7), (0, 5, 6), (0, 6, 7), (1, 5, 6), (5, 6, 7), (0, 1, 5), (2, 5, 6), (2, 6, 7), (3, 4, 6), (1, 4, 7), (0, 2, 3), (2, 4, 7), (2, 3, 5), (0, 4, 6), (1, 6, 7), (3, 5, 7), (0, 1, 4), (0, 1, 7), (4, 5, 7), (1, 2, 3), (1, 4, 6), (3, 4, 5), (2, 3, 4), (2, 3, 7), (2, 4, 6), (0, 4, 5)}\n",
      "Generated 2760681 many graphs.\n",
      "Found a P3-hat-free graph on at least 8 triangles and 8 vertices:\n",
      "((0, 1, 2), (0, 1, 3), (0, 5, 7), (4, 6, 7), (5, 6, 7), (0, 1, 5), (3, 4, 6), (2, 4, 6))\n",
      "Found a P3-hat-free graph on at least 8 triangles and 8 vertices:\n",
      "((0, 1, 2), (0, 1, 3), (0, 5, 7), (4, 6, 7), (5, 6, 7), (3, 4, 6), (0, 2, 3), (1, 2, 3))\n",
      "Found a P3-hat-free graph on at least 8 triangles and 8 vertices:\n",
      "((0, 1, 2), (0, 1, 3), (0, 5, 7), (4, 6, 7), (5, 6, 7), (3, 4, 6), (0, 1, 7), (2, 4, 6))\n",
      "Found a P3-hat-free graph on at least 8 triangles and 8 vertices:\n",
      "((0, 1, 2), (0, 1, 3), (0, 5, 7), (4, 6, 7), (5, 6, 7), (0, 2, 3), (1, 2, 3), (1, 4, 6))\n",
      "Found a P3-hat-free graph on at least 8 triangles and 8 vertices:\n",
      "((0, 1, 2), (0, 1, 3), (0, 5, 7), (4, 6, 7), (5, 6, 7), (0, 2, 3), (1, 2, 3), (2, 4, 6))\n",
      "Found a P3-hat-free graph on at least 8 triangles and 8 vertices:\n",
      "((0, 1, 2), (0, 1, 3), (0, 5, 7), (0, 4, 7), (0, 2, 3), (4, 5, 7), (1, 2, 3), (0, 4, 5))\n",
      "Found a P3-hat-free graph on at least 8 triangles and 8 vertices:\n",
      "((0, 1, 2), (0, 1, 3), (0, 5, 7), (0, 5, 6), (0, 6, 7), (5, 6, 7), (0, 2, 3), (1, 2, 3))\n",
      "Found a P3-hat-free graph on at least 8 triangles and 8 vertices:\n",
      "((0, 1, 2), (0, 1, 3), (3, 5, 6), (4, 5, 6), (5, 6, 7), (2, 5, 6), (0, 1, 4), (0, 1, 7))\n",
      "Found a P3-hat-free graph on at least 8 triangles and 8 vertices:\n",
      "((0, 1, 2), (0, 1, 3), (3, 5, 6), (4, 5, 6), (3, 4, 6), (0, 2, 3), (1, 2, 3), (3, 4, 5))\n",
      "Found a P3-hat-free graph on at least 8 triangles and 8 vertices:\n",
      "((0, 1, 2), (0, 1, 3), (3, 5, 6), (4, 6, 7), (0, 4, 7), (5, 6, 7), (2, 5, 6), (0, 1, 7))\n",
      "Found a P3-hat-free graph on at least 8 triangles and 8 vertices:\n",
      "((0, 1, 2), (0, 1, 3), (3, 5, 6), (4, 6, 7), (5, 6, 7), (0, 2, 3), (2, 4, 7), (1, 2, 3))\n",
      "Found a P3-hat-free graph on at least 8 triangles and 8 vertices:\n",
      "((0, 1, 2), (0, 1, 3), (3, 5, 6), (4, 6, 7), (0, 4, 7), (5, 6, 7), (0, 2, 3), (1, 2, 3))\n",
      "Found a P3-hat-free graph on at least 8 triangles and 8 vertices:\n",
      "((0, 1, 2), (0, 1, 3), (3, 5, 6), (4, 6, 7), (5, 6, 7), (2, 5, 6), (1, 4, 7), (0, 1, 7))\n",
      "Found a P3-hat-free graph on at least 8 triangles and 8 vertices:\n",
      "((0, 1, 2), (0, 1, 3), (3, 5, 6), (4, 6, 7), (5, 6, 7), (1, 4, 7), (0, 2, 3), (1, 2, 3))\n",
      "Found a P3-hat-free graph on at least 8 triangles and 8 vertices:\n",
      "((0, 1, 2), (0, 1, 3), (3, 5, 6), (3, 6, 7), (5, 6, 7), (0, 2, 3), (3, 5, 7), (1, 2, 3))\n",
      "Found a P3-hat-free graph on at least 8 triangles and 8 vertices:\n",
      "((0, 1, 2), (0, 1, 3), (1, 5, 7), (4, 6, 7), (5, 6, 7), (0, 2, 3), (0, 4, 6), (1, 2, 3))\n",
      "Found a P3-hat-free graph on at least 8 triangles and 8 vertices:\n",
      "((0, 1, 2), (0, 1, 3), (1, 5, 7), (4, 6, 7), (5, 6, 7), (3, 4, 6), (0, 2, 3), (1, 2, 3))\n",
      "Found a P3-hat-free graph on at least 8 triangles and 8 vertices:\n",
      "((0, 1, 2), (0, 1, 3), (1, 5, 7), (4, 6, 7), (5, 6, 7), (0, 1, 5), (3, 4, 6), (2, 4, 6))\n",
      "Found a P3-hat-free graph on at least 8 triangles and 8 vertices:\n",
      "((0, 1, 2), (0, 1, 3), (1, 5, 7), (4, 6, 7), (5, 6, 7), (0, 2, 3), (1, 2, 3), (2, 4, 6))\n",
      "Found a P3-hat-free graph on at least 8 triangles and 8 vertices:\n",
      "((0, 1, 2), (0, 1, 3), (1, 5, 7), (4, 6, 7), (5, 6, 7), (3, 4, 6), (0, 1, 7), (2, 4, 6))\n",
      "Found a P3-hat-free graph on at least 8 triangles and 8 vertices:\n",
      "((0, 1, 2), (0, 1, 3), (1, 5, 7), (1, 4, 5), (1, 4, 7), (0, 2, 3), (4, 5, 7), (1, 2, 3))\n",
      "Found a P3-hat-free graph on at least 8 triangles and 8 vertices:\n",
      "((0, 1, 2), (0, 1, 3), (1, 5, 7), (1, 5, 6), (5, 6, 7), (0, 2, 3), (1, 6, 7), (1, 2, 3))\n",
      "Found a P3-hat-free graph on at least 8 triangles and 8 vertices:\n",
      "((0, 1, 2), (0, 1, 3), (0, 1, 6), (2, 5, 7), (5, 6, 7), (3, 5, 7), (0, 1, 4), (4, 5, 7))\n",
      "Found a P3-hat-free graph on at least 8 triangles and 8 vertices:\n",
      "((0, 1, 2), (0, 1, 3), (0, 1, 6), (4, 5, 6), (3, 4, 7), (1, 5, 6), (2, 4, 7), (4, 5, 7))\n",
      "Found a P3-hat-free graph on at least 8 triangles and 8 vertices:\n",
      "((0, 1, 2), (0, 1, 3), (0, 1, 6), (4, 5, 6), (3, 4, 7), (0, 5, 6), (2, 4, 7), (4, 5, 7))\n",
      "Found a P3-hat-free graph on at least 8 triangles and 8 vertices:\n",
      "((0, 1, 2), (0, 1, 3), (0, 1, 6), (4, 5, 6), (2, 4, 5), (0, 1, 7), (4, 5, 7), (3, 4, 5))\n",
      "Found a P3-hat-free graph on at least 8 triangles and 8 vertices:\n",
      "((0, 1, 2), (0, 1, 3), (0, 1, 6), (4, 6, 7), (3, 4, 7), (0, 1, 5), (2, 4, 7), (4, 5, 7))\n",
      "Found a P3-hat-free graph on at least 8 triangles and 8 vertices:\n",
      "((0, 1, 2), (0, 1, 3), (0, 1, 6), (2, 4, 5), (5, 6, 7), (1, 6, 7), (4, 5, 7), (3, 4, 5))\n",
      "Found a P3-hat-free graph on at least 8 triangles and 8 vertices:\n",
      "((0, 1, 2), (0, 1, 3), (2, 5, 7), (4, 6, 7), (5, 6, 7), (0, 2, 3), (0, 4, 6), (1, 2, 3))\n",
      "Found a P3-hat-free graph on at least 8 triangles and 8 vertices:\n",
      "((0, 1, 2), (0, 1, 3), (2, 5, 7), (4, 6, 7), (5, 6, 7), (3, 4, 6), (0, 2, 3), (1, 2, 3))\n",
      "Found a P3-hat-free graph on at least 8 triangles and 8 vertices:\n",
      "((0, 1, 2), (0, 1, 3), (2, 5, 7), (4, 6, 7), (5, 6, 7), (0, 2, 3), (1, 2, 3), (1, 4, 6))\n",
      "Found a P3-hat-free graph on at least 8 triangles and 8 vertices:\n",
      "((0, 1, 2), (0, 1, 3), (2, 5, 7), (4, 6, 7), (5, 6, 7), (0, 4, 6), (3, 5, 7), (0, 1, 4))\n",
      "Found a P3-hat-free graph on at least 8 triangles and 8 vertices:\n",
      "((0, 1, 2), (0, 1, 3), (2, 5, 7), (4, 6, 7), (5, 6, 7), (3, 5, 7), (0, 1, 4), (1, 4, 6))\n",
      "Found a P3-hat-free graph on at least 8 triangles and 8 vertices:\n",
      "((0, 1, 2), (0, 1, 3), (2, 5, 7), (2, 4, 5), (0, 2, 3), (2, 4, 7), (4, 5, 7), (1, 2, 3))\n",
      "Found a P3-hat-free graph on at least 8 triangles and 8 vertices:\n",
      "((0, 1, 2), (0, 1, 3), (2, 5, 7), (5, 6, 7), (2, 5, 6), (2, 6, 7), (0, 2, 3), (1, 2, 3))\n",
      "Found a P3-hat-free graph on at least 8 triangles and 8 vertices:\n",
      "((0, 1, 2), (0, 1, 3), (4, 5, 6), (4, 6, 7), (1, 4, 5), (3, 6, 7), (0, 1, 5), (2, 6, 7))\n",
      "Found a P3-hat-free graph on at least 8 triangles and 8 vertices:\n",
      "((0, 1, 2), (0, 1, 3), (4, 5, 6), (4, 6, 7), (1, 4, 5), (0, 6, 7), (0, 2, 3), (1, 2, 3))\n",
      "Found a P3-hat-free graph on at least 8 triangles and 8 vertices:\n",
      "((0, 1, 2), (0, 1, 3), (4, 5, 6), (4, 6, 7), (1, 4, 5), (2, 6, 7), (0, 2, 3), (1, 2, 3))\n",
      "Found a P3-hat-free graph on at least 8 triangles and 8 vertices:\n",
      "((0, 1, 2), (0, 1, 3), (4, 5, 6), (4, 6, 7), (1, 4, 5), (3, 6, 7), (2, 6, 7), (0, 1, 4))\n",
      "Found a P3-hat-free graph on at least 8 triangles and 8 vertices:\n",
      "((0, 1, 2), (0, 1, 3), (4, 5, 6), (4, 6, 7), (2, 4, 5), (3, 6, 7), (0, 2, 3), (1, 2, 3))\n",
      "Found a P3-hat-free graph on at least 8 triangles and 8 vertices:\n",
      "((0, 1, 2), (0, 1, 3), (4, 5, 6), (4, 6, 7), (1, 4, 5), (3, 6, 7), (0, 2, 3), (1, 2, 3))\n",
      "Found a P3-hat-free graph on at least 8 triangles and 8 vertices:\n",
      "((0, 1, 2), (0, 1, 3), (4, 5, 6), (4, 6, 7), (2, 4, 5), (0, 6, 7), (0, 2, 3), (1, 2, 3))\n",
      "Found a P3-hat-free graph on at least 8 triangles and 8 vertices:\n",
      "((0, 1, 2), (0, 1, 3), (4, 5, 6), (4, 6, 7), (2, 4, 5), (0, 2, 3), (1, 6, 7), (1, 2, 3))\n",
      "Found a P3-hat-free graph on at least 8 triangles and 8 vertices:\n",
      "((0, 1, 2), (0, 1, 3), (4, 5, 6), (4, 6, 7), (3, 6, 7), (2, 6, 7), (0, 1, 4), (0, 4, 5))\n",
      "Found a P3-hat-free graph on at least 8 triangles and 8 vertices:\n",
      "((0, 1, 2), (0, 1, 3), (4, 5, 6), (4, 6, 7), (3, 6, 7), (0, 1, 5), (2, 6, 7), (0, 4, 5))\n",
      "Found a P3-hat-free graph on at least 8 triangles and 8 vertices:\n",
      "((0, 1, 2), (0, 1, 3), (4, 5, 6), (4, 6, 7), (3, 6, 7), (0, 2, 3), (1, 2, 3), (0, 4, 5))\n",
      "Found a P3-hat-free graph on at least 8 triangles and 8 vertices:\n",
      "((0, 1, 2), (0, 1, 3), (4, 5, 6), (4, 6, 7), (0, 6, 7), (0, 2, 3), (1, 2, 3), (3, 4, 5))\n",
      "Found a P3-hat-free graph on at least 8 triangles and 8 vertices:\n",
      "((0, 1, 2), (0, 1, 3), (4, 5, 6), (4, 6, 7), (5, 6, 7), (0, 2, 3), (4, 5, 7), (1, 2, 3))\n",
      "Found a P3-hat-free graph on at least 8 triangles and 8 vertices:\n",
      "((0, 1, 2), (0, 1, 3), (4, 5, 6), (4, 6, 7), (0, 1, 5), (3, 4, 6), (0, 1, 7), (2, 4, 6))\n"
     ]
    },
    {
     "name": "stdout",
     "output_type": "stream",
     "text": [
      "Found a P3-hat-free graph on at least 8 triangles and 8 vertices:\n",
      "((0, 1, 2), (0, 1, 3), (4, 5, 6), (4, 6, 7), (2, 6, 7), (0, 2, 3), (1, 2, 3), (3, 4, 5))\n",
      "Found a P3-hat-free graph on at least 8 triangles and 8 vertices:\n",
      "((0, 1, 2), (0, 1, 3), (4, 5, 6), (4, 6, 7), (0, 2, 3), (1, 6, 7), (1, 2, 3), (3, 4, 5))\n",
      "Found a P3-hat-free graph on at least 8 triangles and 8 vertices:\n",
      "((0, 1, 2), (0, 1, 3), (4, 5, 6), (4, 6, 7), (2, 6, 7), (0, 2, 3), (1, 2, 3), (0, 4, 5))\n",
      "Found a P3-hat-free graph on at least 8 triangles and 8 vertices:\n",
      "((0, 1, 2), (0, 1, 3), (4, 5, 6), (4, 6, 7), (0, 2, 3), (1, 6, 7), (1, 2, 3), (0, 4, 5))\n",
      "Found a P3-hat-free graph on at least 8 triangles and 8 vertices:\n",
      "((0, 1, 2), (0, 1, 3), (4, 5, 6), (1, 4, 5), (3, 6, 7), (5, 6, 7), (0, 1, 5), (2, 6, 7))\n",
      "Found a P3-hat-free graph on at least 8 triangles and 8 vertices:\n",
      "((0, 1, 2), (0, 1, 3), (4, 5, 6), (1, 4, 5), (3, 6, 7), (5, 6, 7), (2, 6, 7), (0, 1, 4))\n",
      "Found a P3-hat-free graph on at least 8 triangles and 8 vertices:\n",
      "((0, 1, 2), (0, 1, 3), (4, 5, 6), (1, 4, 5), (0, 6, 7), (5, 6, 7), (0, 2, 3), (1, 2, 3))\n",
      "Found a P3-hat-free graph on at least 8 triangles and 8 vertices:\n",
      "((0, 1, 2), (0, 1, 3), (4, 5, 6), (1, 4, 5), (3, 6, 7), (5, 6, 7), (0, 2, 3), (1, 2, 3))\n",
      "Found a P3-hat-free graph on at least 8 triangles and 8 vertices:\n",
      "((0, 1, 2), (0, 1, 3), (4, 5, 6), (1, 4, 5), (1, 5, 6), (0, 2, 3), (1, 2, 3), (1, 4, 6))\n",
      "Found a P3-hat-free graph on at least 8 triangles and 8 vertices:\n",
      "((0, 1, 2), (0, 1, 3), (4, 5, 6), (1, 4, 5), (5, 6, 7), (2, 6, 7), (0, 2, 3), (1, 2, 3))\n",
      "Found a P3-hat-free graph on at least 8 triangles and 8 vertices:\n",
      "((0, 1, 2), (0, 1, 3), (4, 5, 6), (3, 4, 7), (0, 5, 6), (0, 2, 3), (4, 5, 7), (1, 2, 3))\n",
      "Found a P3-hat-free graph on at least 8 triangles and 8 vertices:\n",
      "((0, 1, 2), (0, 1, 3), (4, 5, 6), (3, 4, 7), (1, 5, 6), (0, 2, 3), (4, 5, 7), (1, 2, 3))\n",
      "Found a P3-hat-free graph on at least 8 triangles and 8 vertices:\n",
      "((0, 1, 2), (0, 1, 3), (4, 5, 6), (3, 4, 7), (2, 5, 6), (0, 2, 3), (4, 5, 7), (1, 2, 3))\n",
      "Found a P3-hat-free graph on at least 8 triangles and 8 vertices:\n",
      "((0, 1, 2), (0, 1, 3), (4, 5, 6), (2, 4, 5), (3, 6, 7), (5, 6, 7), (0, 2, 3), (1, 2, 3))\n",
      "Found a P3-hat-free graph on at least 8 triangles and 8 vertices:\n",
      "((0, 1, 2), (0, 1, 3), (4, 5, 6), (2, 4, 5), (0, 6, 7), (5, 6, 7), (0, 1, 7), (3, 4, 5))\n",
      "Found a P3-hat-free graph on at least 8 triangles and 8 vertices:\n",
      "((0, 1, 2), (0, 1, 3), (4, 5, 6), (2, 4, 5), (0, 6, 7), (5, 6, 7), (0, 2, 3), (1, 2, 3))\n",
      "Found a P3-hat-free graph on at least 8 triangles and 8 vertices:\n",
      "((0, 1, 2), (0, 1, 3), (4, 5, 6), (2, 4, 5), (5, 6, 7), (0, 2, 3), (1, 6, 7), (1, 2, 3))\n",
      "Found a P3-hat-free graph on at least 8 triangles and 8 vertices:\n",
      "((0, 1, 2), (0, 1, 3), (4, 5, 6), (2, 4, 5), (2, 5, 6), (0, 2, 3), (1, 2, 3), (2, 4, 6))\n",
      "Found a P3-hat-free graph on at least 8 triangles and 8 vertices:\n",
      "((0, 1, 2), (0, 1, 3), (4, 5, 6), (3, 6, 7), (5, 6, 7), (0, 1, 5), (2, 6, 7), (0, 4, 5))\n",
      "Found a P3-hat-free graph on at least 8 triangles and 8 vertices:\n",
      "((0, 1, 2), (0, 1, 3), (4, 5, 6), (3, 6, 7), (5, 6, 7), (2, 6, 7), (0, 1, 4), (0, 4, 5))\n",
      "Found a P3-hat-free graph on at least 8 triangles and 8 vertices:\n",
      "((0, 1, 2), (0, 1, 3), (4, 5, 6), (3, 6, 7), (5, 6, 7), (0, 2, 3), (1, 2, 3), (0, 4, 5))\n",
      "Found a P3-hat-free graph on at least 8 triangles and 8 vertices:\n",
      "((0, 1, 2), (0, 1, 3), (4, 5, 6), (0, 4, 7), (1, 5, 6), (0, 2, 3), (4, 5, 7), (1, 2, 3))\n",
      "Found a P3-hat-free graph on at least 8 triangles and 8 vertices:\n",
      "((0, 1, 2), (0, 1, 3), (4, 5, 6), (0, 4, 7), (2, 5, 6), (0, 2, 3), (4, 5, 7), (1, 2, 3))\n",
      "Found a P3-hat-free graph on at least 8 triangles and 8 vertices:\n",
      "((0, 1, 2), (0, 1, 3), (4, 5, 6), (0, 5, 6), (1, 4, 7), (0, 2, 3), (4, 5, 7), (1, 2, 3))\n",
      "Found a P3-hat-free graph on at least 8 triangles and 8 vertices:\n",
      "((0, 1, 2), (0, 1, 3), (4, 5, 6), (0, 5, 6), (0, 2, 3), (2, 4, 7), (4, 5, 7), (1, 2, 3))\n",
      "Found a P3-hat-free graph on at least 8 triangles and 8 vertices:\n",
      "((0, 1, 2), (0, 1, 3), (4, 5, 6), (0, 5, 6), (0, 2, 3), (0, 4, 6), (1, 2, 3), (0, 4, 5))\n",
      "Found a P3-hat-free graph on at least 8 triangles and 8 vertices:\n",
      "((0, 1, 2), (0, 1, 3), (4, 5, 6), (0, 6, 7), (5, 6, 7), (0, 2, 3), (1, 2, 3), (3, 4, 5))\n",
      "Found a P3-hat-free graph on at least 8 triangles and 8 vertices:\n",
      "((0, 1, 2), (0, 1, 3), (4, 5, 6), (1, 5, 6), (0, 2, 3), (2, 4, 7), (4, 5, 7), (1, 2, 3))\n",
      "Found a P3-hat-free graph on at least 8 triangles and 8 vertices:\n",
      "((0, 1, 2), (0, 1, 3), (4, 5, 6), (5, 6, 7), (2, 6, 7), (0, 2, 3), (1, 2, 3), (3, 4, 5))\n",
      "Found a P3-hat-free graph on at least 8 triangles and 8 vertices:\n",
      "((0, 1, 2), (0, 1, 3), (4, 5, 6), (5, 6, 7), (0, 2, 3), (1, 6, 7), (1, 2, 3), (3, 4, 5))\n",
      "Found a P3-hat-free graph on at least 8 triangles and 8 vertices:\n",
      "((0, 1, 2), (0, 1, 3), (4, 5, 6), (5, 6, 7), (0, 2, 3), (1, 6, 7), (1, 2, 3), (0, 4, 5))\n",
      "Found a P3-hat-free graph on at least 8 triangles and 8 vertices:\n",
      "((0, 1, 2), (0, 1, 3), (4, 5, 6), (5, 6, 7), (2, 6, 7), (0, 2, 3), (1, 2, 3), (0, 4, 5))\n",
      "Found a P3-hat-free graph on at least 8 triangles and 8 vertices:\n",
      "((0, 1, 2), (0, 1, 3), (4, 5, 6), (2, 5, 6), (1, 4, 7), (0, 2, 3), (4, 5, 7), (1, 2, 3))\n",
      "Found a P3-hat-free graph on at least 8 triangles and 8 vertices:\n",
      "((0, 1, 2), (0, 1, 3), (4, 5, 6), (0, 2, 3), (3, 5, 7), (4, 5, 7), (1, 2, 3), (1, 4, 6))\n",
      "Found a P3-hat-free graph on at least 8 triangles and 8 vertices:\n",
      "((0, 1, 2), (0, 1, 3), (4, 5, 6), (0, 2, 3), (0, 4, 6), (3, 5, 7), (4, 5, 7), (1, 2, 3))\n",
      "Found a P3-hat-free graph on at least 8 triangles and 8 vertices:\n",
      "((0, 1, 2), (0, 1, 3), (4, 5, 6), (0, 2, 3), (3, 5, 7), (4, 5, 7), (1, 2, 3), (2, 4, 6))\n",
      "Found a P3-hat-free graph on at least 8 triangles and 8 vertices:\n",
      "((0, 1, 2), (0, 1, 3), (4, 6, 7), (3, 4, 7), (3, 6, 7), (3, 4, 6), (0, 2, 3), (1, 2, 3))\n",
      "Found a P3-hat-free graph on at least 8 triangles and 8 vertices:\n",
      "((0, 1, 2), (0, 1, 3), (4, 6, 7), (3, 6, 7), (5, 6, 7), (0, 1, 5), (2, 6, 7), (0, 1, 4))\n",
      "Found a P3-hat-free graph on at least 8 triangles and 8 vertices:\n",
      "((0, 1, 2), (0, 1, 3), (4, 6, 7), (0, 4, 7), (0, 6, 7), (0, 2, 3), (0, 4, 6), (1, 2, 3))\n",
      "Found a P3-hat-free graph on at least 8 triangles and 8 vertices:\n",
      "((0, 1, 2), (0, 1, 3), (4, 6, 7), (2, 6, 7), (0, 2, 3), (2, 4, 7), (1, 2, 3), (2, 4, 6))\n",
      "Found a P3-hat-free graph on at least 8 triangles and 8 vertices:\n",
      "((0, 1, 2), (0, 1, 3), (4, 6, 7), (1, 4, 7), (0, 2, 3), (1, 6, 7), (1, 2, 3), (1, 4, 6))\n",
      "Found a P3-hat-free graph on at least 8 triangles and 8 vertices:\n",
      "((0, 1, 2), (0, 1, 3), (4, 6, 7), (0, 2, 3), (3, 5, 7), (4, 5, 7), (1, 2, 3), (1, 4, 6))\n",
      "Found a P3-hat-free graph on at least 8 triangles and 8 vertices:\n",
      "((0, 1, 2), (0, 1, 3), (4, 6, 7), (0, 2, 3), (0, 4, 6), (3, 5, 7), (4, 5, 7), (1, 2, 3))\n",
      "Found a P3-hat-free graph on at least 8 triangles and 8 vertices:\n",
      "((0, 1, 2), (0, 1, 3), (4, 6, 7), (0, 2, 3), (3, 5, 7), (4, 5, 7), (1, 2, 3), (2, 4, 6))\n",
      "Found a P3-hat-free graph on at least 8 triangles and 8 vertices:\n",
      "((0, 1, 2), (0, 1, 3), (1, 4, 5), (5, 6, 7), (2, 6, 7), (0, 2, 3), (4, 5, 7), (1, 2, 3))\n",
      "Found a P3-hat-free graph on at least 8 triangles and 8 vertices:\n",
      "((0, 1, 2), (0, 1, 3), (3, 4, 7), (5, 6, 7), (2, 5, 6), (0, 2, 3), (4, 5, 7), (1, 2, 3))\n",
      "Found a P3-hat-free graph on at least 8 triangles and 8 vertices:\n",
      "((0, 1, 2), (0, 1, 3), (3, 4, 7), (0, 2, 3), (3, 5, 7), (4, 5, 7), (1, 2, 3), (3, 4, 5))\n",
      "Found a P3-hat-free graph on at least 8 triangles and 8 vertices:\n",
      "((0, 1, 2), (0, 1, 3), (2, 4, 5), (5, 6, 7), (0, 2, 3), (1, 6, 7), (4, 5, 7), (1, 2, 3))\n",
      "Found a P3-hat-free graph on at least 8 triangles and 8 vertices:\n",
      "((0, 1, 2), (0, 1, 3), (0, 4, 7), (5, 6, 7), (2, 5, 6), (0, 2, 3), (4, 5, 7), (1, 2, 3))\n",
      "Found a P3-hat-free graph on at least 8 triangles and 8 vertices:\n",
      "((0, 1, 2), (0, 1, 3), (5, 6, 7), (2, 5, 6), (1, 4, 7), (0, 2, 3), (4, 5, 7), (1, 2, 3))\n",
      "Finished iteration.\n",
      "CPU times: user 3.42 s, sys: 374 ms, total: 3.79 s\n",
      "Wall time: 3min 41s\n"
     ]
    }
   ],
   "source": [
    "%%time\n",
    "!python triangle_count_parallel.py"
   ]
  },
  {
   "cell_type": "markdown",
   "id": "8f79f37b",
   "metadata": {},
   "source": [
    "### Check Output\n",
    "There are 99 different graphs generated.\n",
    "Apart from the bipartition with matching and the two $K_4$'s sharing a vertex, there are a few other interesting configurations, for example\n",
    "\n",
    "|![8,8-graph1](output-img/8-vertex-8-triangles-P3-hat-free-((0,1,2),(0,1,3),(0,1,6),(2,4,5),(5,6,7),(1,6,7),(4,5,7),(3,4,5)).png) |![8,8-graph2](output-img/8-vertex-8-triangles-P3-hat-free-((0,1,2),(0,1,3),(0,4,7),(5,6,7),(2,5,6),(0,2,3),(4,5,7),(1,2,3)).png)|\n",
    "|-|-|\n",
    "\n",
    "These look like intermediate graphs which have one or two edges differing from the two standard constructions.\n",
    "\n",
    "For the full list of output graphs, please check the `output-img` directory."
   ]
  },
  {
   "cell_type": "markdown",
   "id": "a641f17d",
   "metadata": {},
   "source": [
    "## 4b. $n=8, t=9$\n",
    "Enumerate all graphs on 8 vertices and 9 triangles.\n",
    "This is the most computationally intensive one and takes the longest to run."
   ]
  },
  {
   "cell_type": "code",
   "execution_count": 8,
   "id": "04248cc7",
   "metadata": {},
   "outputs": [
    {
     "name": "stdout",
     "output_type": "stream",
     "text": [
      "Generating all graphs with 8 vertices and 9 triangles (including 012, 013)\n",
      "Removed triangles: {(0, 3, 6) (1, 2, 5) (1, 3, 6) (0, 2, 7) (0, 2, 4) (0, 3, 5) (1, 2, 4) (1, 2, 7) (1, 3, 5) (0, 2, 6) (0, 3, 7) (0, 3, 4) (1, 2, 6) (1, 3, 4) (1, 3, 7) (0, 2, 5) }\n",
      "Available triangles: {(0, 5, 7), (3, 5, 6), (1, 5, 7), (0, 1, 6), (2, 5, 7), (4, 5, 6), (4, 6, 7), (1, 4, 5), (3, 4, 7), (2, 4, 5), (3, 6, 7), (2, 3, 6), (0, 4, 7), (0, 5, 6), (0, 6, 7), (1, 5, 6), (5, 6, 7), (0, 1, 5), (2, 5, 6), (2, 6, 7), (3, 4, 6), (1, 4, 7), (0, 2, 3), (2, 4, 7), (2, 3, 5), (0, 4, 6), (1, 6, 7), (3, 5, 7), (0, 1, 4), (0, 1, 7), (4, 5, 7), (1, 2, 3), (1, 4, 6), (3, 4, 5), (2, 3, 4), (2, 3, 7), (2, 4, 6), (0, 4, 5)}\n",
      "Generated 12620256 many graphs.\n",
      "Finished iteration.\n",
      "CPU times: user 16.2 s, sys: 1.86 s, total: 18 s\n",
      "Wall time: 17min 54s\n"
     ]
    }
   ],
   "source": [
    "%%time\n",
    "!python triangle_count_parallel.py"
   ]
  },
  {
   "cell_type": "code",
   "execution_count": 9,
   "id": "d02ecf1c",
   "metadata": {},
   "outputs": [
    {
     "name": "stdout",
     "output_type": "stream",
     "text": [
      "Architecture:                    x86_64\r\n",
      "CPU op-mode(s):                  32-bit, 64-bit\r\n",
      "Byte Order:                      Little Endian\r\n",
      "Address sizes:                   39 bits physical, 48 bits virtual\r\n",
      "CPU(s):                          8\r\n",
      "On-line CPU(s) list:             0-7\r\n",
      "Thread(s) per core:              2\r\n",
      "Core(s) per socket:              4\r\n",
      "Socket(s):                       1\r\n",
      "NUMA node(s):                    1\r\n",
      "Vendor ID:                       GenuineIntel\r\n",
      "CPU family:                      6\r\n",
      "Model:                           142\r\n",
      "Model name:                      Intel(R) Core(TM) i7-8550U CPU @ 1.80GHz\r\n",
      "Stepping:                        10\r\n",
      "CPU MHz:                         3079.686\r\n",
      "CPU max MHz:                     4000.0000\r\n",
      "CPU min MHz:                     400.0000\r\n",
      "BogoMIPS:                        3999.93\r\n",
      "Virtualization:                  VT-x\r\n",
      "L1d cache:                       128 KiB\r\n",
      "L1i cache:                       128 KiB\r\n",
      "L2 cache:                        1 MiB\r\n",
      "L3 cache:                        8 MiB\r\n",
      "NUMA node0 CPU(s):               0-7\r\n",
      "Vulnerability Itlb multihit:     KVM: Mitigation: Split huge pages\r\n",
      "Vulnerability L1tf:              Mitigation; PTE Inversion; VMX conditional cach\r\n",
      "                                 e flushes, SMT vulnerable\r\n",
      "Vulnerability Mds:               Mitigation; Clear CPU buffers; SMT vulnerable\r\n",
      "Vulnerability Meltdown:          Mitigation; PTI\r\n",
      "Vulnerability Mmio stale data:   Mitigation; Clear CPU buffers; SMT vulnerable\r\n",
      "Vulnerability Retbleed:          Mitigation; IBRS\r\n",
      "Vulnerability Spec store bypass: Mitigation; Speculative Store Bypass disabled v\r\n",
      "                                 ia prctl and seccomp\r\n",
      "Vulnerability Spectre v1:        Mitigation; usercopy/swapgs barriers and __user\r\n",
      "                                  pointer sanitization\r\n",
      "Vulnerability Spectre v2:        Mitigation; IBRS, IBPB conditional, RSB filling\r\n",
      "                                 , PBRSB-eIBRS Not affected\r\n",
      "Vulnerability Srbds:             Mitigation; Microcode\r\n",
      "Vulnerability Tsx async abort:   Not affected\r\n",
      "Flags:                           fpu vme de pse tsc msr pae mce cx8 apic sep mtr\r\n",
      "                                 r pge mca cmov pat pse36 clflush dts acpi mmx f\r\n",
      "                                 xsr sse sse2 ss ht tm pbe syscall nx pdpe1gb rd\r\n",
      "                                 tscp lm constant_tsc art arch_perfmon pebs bts \r\n",
      "                                 rep_good nopl xtopology nonstop_tsc cpuid aperf\r\n",
      "                                 mperf pni pclmulqdq dtes64 monitor ds_cpl vmx e\r\n",
      "                                 st tm2 ssse3 sdbg fma cx16 xtpr pdcm pcid sse4_\r\n",
      "                                 1 sse4_2 x2apic movbe popcnt tsc_deadline_timer\r\n",
      "                                  aes xsave avx f16c rdrand lahf_lm abm 3dnowpre\r\n",
      "                                 fetch cpuid_fault epb invpcid_single pti ssbd i\r\n",
      "                                 brs ibpb stibp tpr_shadow vnmi flexpriority ept\r\n",
      "                                  vpid ept_ad fsgsbase tsc_adjust bmi1 avx2 smep\r\n",
      "                                  bmi2 erms invpcid mpx rdseed adx smap clflusho\r\n",
      "                                 pt intel_pt xsaveopt xsavec xgetbv1 xsaves dthe\r\n",
      "                                 rm ida arat pln pts hwp hwp_notify hwp_act_wind\r\n",
      "                                 ow hwp_epp md_clear flush_l1d arch_capabilities\r\n"
     ]
    }
   ],
   "source": [
    "!lscpu"
   ]
  },
  {
   "cell_type": "code",
   "execution_count": null,
   "id": "9d2d723e",
   "metadata": {},
   "outputs": [],
   "source": []
  }
 ],
 "metadata": {
  "kernelspec": {
   "display_name": "Python 3 (ipykernel)",
   "language": "python",
   "name": "python3"
  },
  "language_info": {
   "codemirror_mode": {
    "name": "ipython",
    "version": 3
   },
   "file_extension": ".py",
   "mimetype": "text/x-python",
   "name": "python",
   "nbconvert_exporter": "python",
   "pygments_lexer": "ipython3",
   "version": "3.9.13"
  }
 },
 "nbformat": 4,
 "nbformat_minor": 5
}
