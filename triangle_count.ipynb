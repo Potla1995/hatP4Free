{
 "cells": [
  {
   "cell_type": "markdown",
   "id": "3d1ae617",
   "metadata": {},
   "source": [
    "# Count and output graphs on `num_vertex` vertices with `num_triangle` triangles.\n",
    "_Note_: We change the arguments in the python file everytime, since passing command line arguments does weird things with parallel processes."
   ]
  },
  {
   "cell_type": "markdown",
   "id": "a403077c",
   "metadata": {},
   "source": [
    "## 1a. $n = 5, t = 4$\n",
    "Enumerate all 5-vertex graphs with 4 triangles."
   ]
  },
  {
   "cell_type": "code",
   "execution_count": 1,
   "id": "ad5c9485",
   "metadata": {},
   "outputs": [
    {
     "name": "stdout",
     "output_type": "stream",
     "text": [
      "Generating all graphs with 5 vertices and 4 triangles (including 012, 013)\n",
      "Removed triangles: {(0, 2, 4) (0, 3, 4) (1, 3, 4) (1, 2, 4) }\n",
      "Available triangles: {(0, 1, 4), (1, 2, 3), (0, 2, 3), (2, 3, 4)}\n",
      "Generated 6 many graphs.\n",
      "Found a P3-hat-free graph on at least 4 triangles and 5 vertices:\n",
      "((0, 1, 2), (0, 1, 3), (1, 2, 3), (0, 2, 3))\n",
      "Finished iteration.\n",
      "CPU times: user 58.9 ms, sys: 1.11 ms, total: 60 ms\n",
      "Wall time: 3.29 s\n"
     ]
    }
   ],
   "source": [
    "%%time\n",
    "!python3 triangle_count_parallel.py"
   ]
  },
  {
   "cell_type": "markdown",
   "id": "345c71a5",
   "metadata": {},
   "source": [
    "### Check output\n",
    "![(5,4)-0](./output-img/5-vertex-4-triangles-P3-hat-free-((0,1,2),(0,1,3),(1,2,3),(0,2,3)).png)"
   ]
  },
  {
   "cell_type": "markdown",
   "id": "8b0b31e4",
   "metadata": {},
   "source": [
    "## 1b. $n=5, t=5$\n",
    "Enumerate all 5-vertex graphs with 5 triangles"
   ]
  },
  {
   "cell_type": "code",
   "execution_count": 2,
   "id": "d6313ebd",
   "metadata": {},
   "outputs": [
    {
     "name": "stdout",
     "output_type": "stream",
     "text": [
      "Generating all graphs with 5 vertices and 5 triangles (including 012, 013)\n",
      "Removed triangles: {(0, 2, 4) (0, 3, 4) (1, 3, 4) (1, 2, 4) }\n",
      "Available triangles: {(0, 1, 4), (1, 2, 3), (0, 2, 3), (2, 3, 4)}\n",
      "Generated 4 many graphs.\n",
      "Finished iteration.\n",
      "CPU times: user 41.7 ms, sys: 15.2 ms, total: 56.8 ms\n",
      "Wall time: 2.9 s\n"
     ]
    }
   ],
   "source": [
    "%%time\n",
    "!python3 triangle_count_parallel.py"
   ]
  },
  {
   "cell_type": "markdown",
   "id": "fe91eb8f",
   "metadata": {},
   "source": [
    "## 2a. $n=6, t=5$\n",
    "Enumerate all 6-vertex graphs with 5 triangles"
   ]
  },
  {
   "cell_type": "code",
   "execution_count": 3,
   "id": "b3f945d6",
   "metadata": {},
   "outputs": [
    {
     "name": "stdout",
     "output_type": "stream",
     "text": [
      "Generating all graphs with 6 vertices and 5 triangles (including 012, 013)\n",
      "Removed triangles: {(1, 2, 5) (0, 2, 4) (0, 3, 5) (1, 2, 4) (1, 3, 5) (0, 3, 4) (1, 3, 4) (0, 2, 5) }\n",
      "Available triangles: {(1, 4, 5), (2, 4, 5), (0, 1, 5), (0, 2, 3), (2, 3, 5), (0, 1, 4), (1, 2, 3), (3, 4, 5), (2, 3, 4), (0, 4, 5)}\n",
      "Generated 120 many graphs.\n",
      "Found a P3-hat-free graph on at least 5 triangles and 6 vertices:\n",
      "((0, 1, 2), (0, 1, 3), (1, 4, 5), (0, 2, 3), (1, 2, 3))\n",
      "Found a P3-hat-free graph on at least 5 triangles and 6 vertices:\n",
      "((0, 1, 2), (0, 1, 3), (2, 4, 5), (0, 2, 3), (1, 2, 3))\n",
      "Found a P3-hat-free graph on at least 5 triangles and 6 vertices:\n",
      "((0, 1, 2), (0, 1, 3), (0, 2, 3), (1, 2, 3), (3, 4, 5))\n",
      "Found a P3-hat-free graph on at least 5 triangles and 6 vertices:\n",
      "((0, 1, 2), (0, 1, 3), (0, 2, 3), (1, 2, 3), (0, 4, 5))\n",
      "Finished iteration.\n",
      "CPU times: user 63.9 ms, sys: 22.6 ms, total: 86.4 ms\n",
      "Wall time: 4.12 s\n"
     ]
    }
   ],
   "source": [
    "%%time\n",
    "!python3 triangle_count_parallel.py"
   ]
  },
  {
   "cell_type": "markdown",
   "id": "132c1b0c",
   "metadata": {},
   "source": [
    "### Check Output\n",
    "\n",
    "|![6,5-graph1](output-img/6-vertex-5-triangles-P3-hat-free-((0,1,2),(0,1,3),(0,2,3),(1,2,3),(0,4,5)).png) |![6,5-graph2](output-img/6-vertex-5-triangles-P3-hat-free-((0,1,2),(0,1,3),(0,2,3),(1,2,3),(3,4,5)).png)|\n",
    "|-|-|\n",
    "|![6,5-graph3](output-img/6-vertex-5-triangles-P3-hat-free-((0,1,2),(0,1,3),(1,4,5),(0,2,3),(1,2,3)).png)|![6,5-graph4](output-img/6-vertex-5-triangles-P3-hat-free-((0,1,2),(0,1,3),(2,4,5),(0,2,3),(1,2,3)).png)|\n"
   ]
  },
  {
   "cell_type": "markdown",
   "id": "79ca4b3a",
   "metadata": {},
   "source": [
    "## 2b. $n=6, t=6$\n",
    "Enumerate all graphs on 6 vertices and 6 triangles "
   ]
  },
  {
   "cell_type": "code",
   "execution_count": 4,
   "id": "200a5415",
   "metadata": {},
   "outputs": [
    {
     "name": "stdout",
     "output_type": "stream",
     "text": [
      "Generating all graphs with 6 vertices and 6 triangles (including 012, 013)\n",
      "Removed triangles: {(1, 2, 5) (0, 2, 4) (0, 3, 5) (1, 2, 4) (1, 3, 5) (0, 3, 4) (1, 3, 4) (0, 2, 5) }\n",
      "Available triangles: {(1, 4, 5), (2, 4, 5), (0, 1, 5), (0, 2, 3), (2, 3, 5), (0, 1, 4), (1, 2, 3), (3, 4, 5), (2, 3, 4), (0, 4, 5)}\n",
      "Generated 210 many graphs.\n",
      "Finished iteration.\n",
      "CPU times: user 50.2 ms, sys: 10.3 ms, total: 60.5 ms\n",
      "Wall time: 3.11 s\n"
     ]
    }
   ],
   "source": [
    "%%time\n",
    "!python3 triangle_count_parallel.py"
   ]
  },
  {
   "cell_type": "markdown",
   "id": "1e052fed",
   "metadata": {},
   "source": [
    "## 3a. $n=7, t=8$\n",
    "Enumerate all graphs on 7 vertices and 8 triangles"
   ]
  },
  {
   "cell_type": "code",
   "execution_count": 5,
   "id": "a813b754",
   "metadata": {},
   "outputs": [
    {
     "name": "stdout",
     "output_type": "stream",
     "text": [
      "Generating all graphs with 7 vertices and 8 triangles (including 012, 013)\n",
      "Removed triangles: {(0, 3, 6) (1, 2, 5) (1, 3, 6) (0, 2, 4) (0, 3, 5) (1, 2, 4) (1, 3, 5) (0, 2, 6) (0, 3, 4) (1, 2, 6) (1, 3, 4) (0, 2, 5) }\n",
      "Available triangles: {(3, 5, 6), (0, 1, 6), (4, 5, 6), (1, 4, 5), (2, 4, 5), (2, 3, 6), (0, 5, 6), (1, 5, 6), (0, 1, 5), (2, 5, 6), (3, 4, 6), (0, 2, 3), (2, 3, 5), (0, 4, 6), (0, 1, 4), (1, 2, 3), (1, 4, 6), (3, 4, 5), (2, 3, 4), (2, 4, 6), (0, 4, 5)}\n",
      "Generated 54264 many graphs.\n",
      "Found a P3-hat-free graph on at least 8 triangles and 7 vertices:\n",
      "((0, 1, 2), (0, 1, 3), (3, 5, 6), (4, 5, 6), (3, 4, 6), (0, 2, 3), (1, 2, 3), (3, 4, 5))\n",
      "Found a P3-hat-free graph on at least 8 triangles and 7 vertices:\n",
      "((0, 1, 2), (0, 1, 3), (4, 5, 6), (1, 4, 5), (1, 5, 6), (0, 2, 3), (1, 2, 3), (1, 4, 6))\n",
      "Found a P3-hat-free graph on at least 8 triangles and 7 vertices:\n",
      "((0, 1, 2), (0, 1, 3), (4, 5, 6), (2, 4, 5), (2, 5, 6), (0, 2, 3), (1, 2, 3), (2, 4, 6))\n",
      "Found a P3-hat-free graph on at least 8 triangles and 7 vertices:\n",
      "((0, 1, 2), (0, 1, 3), (4, 5, 6), (0, 5, 6), (0, 2, 3), (0, 4, 6), (1, 2, 3), (0, 4, 5))\n",
      "Finished iteration.\n",
      "CPU times: user 118 ms, sys: 12 ms, total: 130 ms\n",
      "Wall time: 7.18 s\n"
     ]
    }
   ],
   "source": [
    "%%time\n",
    "!python3 triangle_count_parallel.py"
   ]
  },
  {
   "cell_type": "markdown",
   "id": "8c7202a3",
   "metadata": {},
   "source": [
    "### Check Output\n",
    "\n",
    "|![7,8-graph1](output-img/7-vertex-8-triangles-P3-hat-free-((0,1,2),(0,1,3),(3,5,6),(4,5,6),(3,4,6),(0,2,3),(1,2,3),(3,4,5)).png) |![7,8-graph2](output-img/7-vertex-8-triangles-P3-hat-free-((0,1,2),(0,1,3),(4,5,6),(0,5,6),(0,2,3),(0,4,6),(1,2,3),(0,4,5)).png)|\n",
    "|-|-|\n",
    "|![7,8-graph3](output-img/7-vertex-8-triangles-P3-hat-free-((0,1,2),(0,1,3),(4,5,6),(1,4,5),(1,5,6),(0,2,3),(1,2,3),(1,4,6)).png)|![7,8-graph4](output-img/7-vertex-8-triangles-P3-hat-free-((0,1,2),(0,1,3),(4,5,6),(2,4,5),(2,5,6),(0,2,3),(1,2,3),(2,4,6)).png)|\n"
   ]
  },
  {
   "cell_type": "markdown",
   "id": "5ce69f32",
   "metadata": {},
   "source": [
    "## 3b. $n=7, t=9$\n",
    "Enumerate all graphs on 7 vertices and 9 triangles"
   ]
  },
  {
   "cell_type": "code",
   "execution_count": 6,
   "id": "c81924f7",
   "metadata": {},
   "outputs": [
    {
     "name": "stdout",
     "output_type": "stream",
     "text": [
      "Generating all graphs with 7 vertices and 9 triangles (including 012, 013)\n",
      "Removed triangles: {(0, 3, 6) (1, 2, 5) (1, 3, 6) (0, 2, 4) (0, 3, 5) (1, 2, 4) (1, 3, 5) (0, 2, 6) (0, 3, 4) (1, 2, 6) (1, 3, 4) (0, 2, 5) }\n",
      "Available triangles: {(3, 5, 6), (0, 1, 6), (4, 5, 6), (1, 4, 5), (2, 4, 5), (2, 3, 6), (0, 5, 6), (1, 5, 6), (0, 1, 5), (2, 5, 6), (3, 4, 6), (0, 2, 3), (2, 3, 5), (0, 4, 6), (0, 1, 4), (1, 2, 3), (1, 4, 6), (3, 4, 5), (2, 3, 4), (2, 4, 6), (0, 4, 5)}\n",
      "Generated 116280 many graphs.\n",
      "Finished iteration.\n",
      "CPU times: user 133 ms, sys: 29.1 ms, total: 162 ms\n",
      "Wall time: 10.3 s\n"
     ]
    }
   ],
   "source": [
    "%%time\n",
    "!python triangle_count_parallel.py"
   ]
  },
  {
   "cell_type": "markdown",
   "id": "2df04bb7",
   "metadata": {},
   "source": [
    "## 4a. $n=8, t=8$\n",
    "Enumerate all graphs on 8 vertices and 8 triangles"
   ]
  },
  {
   "cell_type": "code",
   "execution_count": 7,
   "id": "efcd126d",
   "metadata": {},
   "outputs": [
    {
     "name": "stdout",
     "output_type": "stream",
     "text": [
      "Generating all graphs with 8 vertices and 8 triangles (including 012, 013)\n",
      "Removed triangles: {(0, 3, 6) (1, 2, 5) (1, 3, 6) (0, 2, 7) (0, 2, 4) (0, 3, 5) (1, 2, 4) (1, 2, 7) (1, 3, 5) (0, 2, 6) (0, 3, 7) (0, 3, 4) (1, 2, 6) (1, 3, 4) (1, 3, 7) (0, 2, 5) }\n",
      "Available triangles: {(0, 5, 7), (3, 5, 6), (1, 5, 7), (0, 1, 6), (2, 5, 7), (4, 5, 6), (4, 6, 7), (1, 4, 5), (3, 4, 7), (2, 4, 5), (3, 6, 7), (2, 3, 6), (0, 4, 7), (0, 5, 6), (0, 6, 7), (1, 5, 6), (5, 6, 7), (0, 1, 5), (2, 5, 6), (2, 6, 7), (3, 4, 6), (1, 4, 7), (0, 2, 3), (2, 4, 7), (2, 3, 5), (0, 4, 6), (1, 6, 7), (3, 5, 7), (0, 1, 4), (0, 1, 7), (4, 5, 7), (1, 2, 3), (1, 4, 6), (3, 4, 5), (2, 3, 4), (2, 3, 7), (2, 4, 6), (0, 4, 5)}\n",
      "Generated 2760681 many graphs.\n",
      "Found a P3-hat-free graph on at least 8 triangles and 8 vertices:\n",
      "((0, 1, 2), (0, 1, 3), (0, 5, 7), (4, 6, 7), (5, 6, 7), (0, 1, 5), (3, 4, 6), (2, 4, 6))\n",
      "Found a P3-hat-free graph on at least 8 triangles and 8 vertices:\n",
      "((0, 1, 2), (0, 1, 3), (0, 5, 7), (4, 6, 7), (5, 6, 7), (3, 4, 6), (0, 2, 3), (1, 2, 3))\n",
      "Found a P3-hat-free graph on at least 8 triangles and 8 vertices:\n",
      "((0, 1, 2), (0, 1, 3), (0, 5, 7), (4, 6, 7), (5, 6, 7), (3, 4, 6), (0, 1, 7), (2, 4, 6))\n",
      "Found a P3-hat-free graph on at least 8 triangles and 8 vertices:\n",
      "((0, 1, 2), (0, 1, 3), (0, 5, 7), (4, 6, 7), (5, 6, 7), (0, 2, 3), (1, 2, 3), (1, 4, 6))\n",
      "Found a P3-hat-free graph on at least 8 triangles and 8 vertices:\n",
      "((0, 1, 2), (0, 1, 3), (0, 5, 7), (4, 6, 7), (5, 6, 7), (0, 2, 3), (1, 2, 3), (2, 4, 6))\n",
      "Found a P3-hat-free graph on at least 8 triangles and 8 vertices:\n",
      "((0, 1, 2), (0, 1, 3), (0, 5, 7), (0, 4, 7), (0, 2, 3), (4, 5, 7), (1, 2, 3), (0, 4, 5))\n",
      "Found a P3-hat-free graph on at least 8 triangles and 8 vertices:\n",
      "((0, 1, 2), (0, 1, 3), (0, 5, 7), (0, 5, 6), (0, 6, 7), (5, 6, 7), (0, 2, 3), (1, 2, 3))\n",
      "Found a P3-hat-free graph on at least 8 triangles and 8 vertices:\n",
      "((0, 1, 2), (0, 1, 3), (3, 5, 6), (4, 5, 6), (5, 6, 7), (2, 5, 6), (0, 1, 4), (0, 1, 7))\n",
      "Found a P3-hat-free graph on at least 8 triangles and 8 vertices:\n",
      "((0, 1, 2), (0, 1, 3), (3, 5, 6), (4, 5, 6), (3, 4, 6), (0, 2, 3), (1, 2, 3), (3, 4, 5))\n",
      "Found a P3-hat-free graph on at least 8 triangles and 8 vertices:\n",
      "((0, 1, 2), (0, 1, 3), (3, 5, 6), (4, 6, 7), (0, 4, 7), (5, 6, 7), (2, 5, 6), (0, 1, 7))\n",
      "Found a P3-hat-free graph on at least 8 triangles and 8 vertices:\n",
      "((0, 1, 2), (0, 1, 3), (3, 5, 6), (4, 6, 7), (5, 6, 7), (0, 2, 3), (2, 4, 7), (1, 2, 3))\n",
      "Found a P3-hat-free graph on at least 8 triangles and 8 vertices:\n",
      "((0, 1, 2), (0, 1, 3), (3, 5, 6), (4, 6, 7), (0, 4, 7), (5, 6, 7), (0, 2, 3), (1, 2, 3))\n",
      "Found a P3-hat-free graph on at least 8 triangles and 8 vertices:\n",
      "((0, 1, 2), (0, 1, 3), (3, 5, 6), (4, 6, 7), (5, 6, 7), (2, 5, 6), (1, 4, 7), (0, 1, 7))\n",
      "Found a P3-hat-free graph on at least 8 triangles and 8 vertices:\n",
      "((0, 1, 2), (0, 1, 3), (3, 5, 6), (4, 6, 7), (5, 6, 7), (1, 4, 7), (0, 2, 3), (1, 2, 3))\n",
      "Found a P3-hat-free graph on at least 8 triangles and 8 vertices:\n",
      "((0, 1, 2), (0, 1, 3), (3, 5, 6), (3, 6, 7), (5, 6, 7), (0, 2, 3), (3, 5, 7), (1, 2, 3))\n",
      "Found a P3-hat-free graph on at least 8 triangles and 8 vertices:\n",
      "((0, 1, 2), (0, 1, 3), (1, 5, 7), (4, 6, 7), (5, 6, 7), (0, 2, 3), (0, 4, 6), (1, 2, 3))\n",
      "Found a P3-hat-free graph on at least 8 triangles and 8 vertices:\n",
      "((0, 1, 2), (0, 1, 3), (1, 5, 7), (4, 6, 7), (5, 6, 7), (3, 4, 6), (0, 2, 3), (1, 2, 3))\n",
      "Found a P3-hat-free graph on at least 8 triangles and 8 vertices:\n",
      "((0, 1, 2), (0, 1, 3), (1, 5, 7), (4, 6, 7), (5, 6, 7), (0, 1, 5), (3, 4, 6), (2, 4, 6))\n",
      "Found a P3-hat-free graph on at least 8 triangles and 8 vertices:\n",
      "((0, 1, 2), (0, 1, 3), (1, 5, 7), (4, 6, 7), (5, 6, 7), (0, 2, 3), (1, 2, 3), (2, 4, 6))\n",
      "Found a P3-hat-free graph on at least 8 triangles and 8 vertices:\n",
      "((0, 1, 2), (0, 1, 3), (1, 5, 7), (4, 6, 7), (5, 6, 7), (3, 4, 6), (0, 1, 7), (2, 4, 6))\n",
      "Found a P3-hat-free graph on at least 8 triangles and 8 vertices:\n",
      "((0, 1, 2), (0, 1, 3), (1, 5, 7), (1, 4, 5), (1, 4, 7), (0, 2, 3), (4, 5, 7), (1, 2, 3))\n",
      "Found a P3-hat-free graph on at least 8 triangles and 8 vertices:\n",
      "((0, 1, 2), (0, 1, 3), (1, 5, 7), (1, 5, 6), (5, 6, 7), (0, 2, 3), (1, 6, 7), (1, 2, 3))\n",
      "Found a P3-hat-free graph on at least 8 triangles and 8 vertices:\n",
      "((0, 1, 2), (0, 1, 3), (0, 1, 6), (2, 5, 7), (5, 6, 7), (3, 5, 7), (0, 1, 4), (4, 5, 7))\n",
      "Found a P3-hat-free graph on at least 8 triangles and 8 vertices:\n",
      "((0, 1, 2), (0, 1, 3), (0, 1, 6), (4, 5, 6), (3, 4, 7), (1, 5, 6), (2, 4, 7), (4, 5, 7))\n",
      "Found a P3-hat-free graph on at least 8 triangles and 8 vertices:\n",
      "((0, 1, 2), (0, 1, 3), (0, 1, 6), (4, 5, 6), (3, 4, 7), (0, 5, 6), (2, 4, 7), (4, 5, 7))\n",
      "Found a P3-hat-free graph on at least 8 triangles and 8 vertices:\n",
      "((0, 1, 2), (0, 1, 3), (0, 1, 6), (4, 5, 6), (2, 4, 5), (0, 1, 7), (4, 5, 7), (3, 4, 5))\n",
      "Found a P3-hat-free graph on at least 8 triangles and 8 vertices:\n",
      "((0, 1, 2), (0, 1, 3), (0, 1, 6), (4, 6, 7), (3, 4, 7), (0, 1, 5), (2, 4, 7), (4, 5, 7))\n",
      "Found a P3-hat-free graph on at least 8 triangles and 8 vertices:\n",
      "((0, 1, 2), (0, 1, 3), (0, 1, 6), (2, 4, 5), (5, 6, 7), (1, 6, 7), (4, 5, 7), (3, 4, 5))\n",
      "Found a P3-hat-free graph on at least 8 triangles and 8 vertices:\n",
      "((0, 1, 2), (0, 1, 3), (2, 5, 7), (4, 6, 7), (5, 6, 7), (0, 2, 3), (0, 4, 6), (1, 2, 3))\n",
      "Found a P3-hat-free graph on at least 8 triangles and 8 vertices:\n",
      "((0, 1, 2), (0, 1, 3), (2, 5, 7), (4, 6, 7), (5, 6, 7), (3, 4, 6), (0, 2, 3), (1, 2, 3))\n",
      "Found a P3-hat-free graph on at least 8 triangles and 8 vertices:\n",
      "((0, 1, 2), (0, 1, 3), (2, 5, 7), (4, 6, 7), (5, 6, 7), (0, 2, 3), (1, 2, 3), (1, 4, 6))\n",
      "Found a P3-hat-free graph on at least 8 triangles and 8 vertices:\n",
      "((0, 1, 2), (0, 1, 3), (2, 5, 7), (4, 6, 7), (5, 6, 7), (0, 4, 6), (3, 5, 7), (0, 1, 4))\n",
      "Found a P3-hat-free graph on at least 8 triangles and 8 vertices:\n",
      "((0, 1, 2), (0, 1, 3), (2, 5, 7), (4, 6, 7), (5, 6, 7), (3, 5, 7), (0, 1, 4), (1, 4, 6))\n",
      "Found a P3-hat-free graph on at least 8 triangles and 8 vertices:\n",
      "((0, 1, 2), (0, 1, 3), (2, 5, 7), (2, 4, 5), (0, 2, 3), (2, 4, 7), (4, 5, 7), (1, 2, 3))\n",
      "Found a P3-hat-free graph on at least 8 triangles and 8 vertices:\n",
      "((0, 1, 2), (0, 1, 3), (2, 5, 7), (5, 6, 7), (2, 5, 6), (2, 6, 7), (0, 2, 3), (1, 2, 3))\n",
      "Found a P3-hat-free graph on at least 8 triangles and 8 vertices:\n",
      "((0, 1, 2), (0, 1, 3), (4, 5, 6), (4, 6, 7), (1, 4, 5), (3, 6, 7), (0, 1, 5), (2, 6, 7))\n",
      "Found a P3-hat-free graph on at least 8 triangles and 8 vertices:\n",
      "((0, 1, 2), (0, 1, 3), (4, 5, 6), (4, 6, 7), (1, 4, 5), (0, 6, 7), (0, 2, 3), (1, 2, 3))\n",
      "Found a P3-hat-free graph on at least 8 triangles and 8 vertices:\n",
      "((0, 1, 2), (0, 1, 3), (4, 5, 6), (4, 6, 7), (1, 4, 5), (2, 6, 7), (0, 2, 3), (1, 2, 3))\n",
      "Found a P3-hat-free graph on at least 8 triangles and 8 vertices:\n",
      "((0, 1, 2), (0, 1, 3), (4, 5, 6), (4, 6, 7), (1, 4, 5), (3, 6, 7), (2, 6, 7), (0, 1, 4))\n",
      "Found a P3-hat-free graph on at least 8 triangles and 8 vertices:\n",
      "((0, 1, 2), (0, 1, 3), (4, 5, 6), (4, 6, 7), (2, 4, 5), (3, 6, 7), (0, 2, 3), (1, 2, 3))\n",
      "Found a P3-hat-free graph on at least 8 triangles and 8 vertices:\n",
      "((0, 1, 2), (0, 1, 3), (4, 5, 6), (4, 6, 7), (1, 4, 5), (3, 6, 7), (0, 2, 3), (1, 2, 3))\n",
      "Found a P3-hat-free graph on at least 8 triangles and 8 vertices:\n",
      "((0, 1, 2), (0, 1, 3), (4, 5, 6), (4, 6, 7), (2, 4, 5), (0, 6, 7), (0, 2, 3), (1, 2, 3))\n",
      "Found a P3-hat-free graph on at least 8 triangles and 8 vertices:\n",
      "((0, 1, 2), (0, 1, 3), (4, 5, 6), (4, 6, 7), (2, 4, 5), (0, 2, 3), (1, 6, 7), (1, 2, 3))\n",
      "Found a P3-hat-free graph on at least 8 triangles and 8 vertices:\n",
      "((0, 1, 2), (0, 1, 3), (4, 5, 6), (4, 6, 7), (3, 6, 7), (2, 6, 7), (0, 1, 4), (0, 4, 5))\n",
      "Found a P3-hat-free graph on at least 8 triangles and 8 vertices:\n",
      "((0, 1, 2), (0, 1, 3), (4, 5, 6), (4, 6, 7), (3, 6, 7), (0, 1, 5), (2, 6, 7), (0, 4, 5))\n",
      "Found a P3-hat-free graph on at least 8 triangles and 8 vertices:\n",
      "((0, 1, 2), (0, 1, 3), (4, 5, 6), (4, 6, 7), (3, 6, 7), (0, 2, 3), (1, 2, 3), (0, 4, 5))\n",
      "Found a P3-hat-free graph on at least 8 triangles and 8 vertices:\n",
      "((0, 1, 2), (0, 1, 3), (4, 5, 6), (4, 6, 7), (0, 6, 7), (0, 2, 3), (1, 2, 3), (3, 4, 5))\n",
      "Found a P3-hat-free graph on at least 8 triangles and 8 vertices:\n",
      "((0, 1, 2), (0, 1, 3), (4, 5, 6), (4, 6, 7), (5, 6, 7), (0, 2, 3), (4, 5, 7), (1, 2, 3))\n",
      "Found a P3-hat-free graph on at least 8 triangles and 8 vertices:\n",
      "((0, 1, 2), (0, 1, 3), (4, 5, 6), (4, 6, 7), (0, 1, 5), (3, 4, 6), (0, 1, 7), (2, 4, 6))\n"
     ]
    },
    {
     "name": "stdout",
     "output_type": "stream",
     "text": [
      "Found a P3-hat-free graph on at least 8 triangles and 8 vertices:\n",
      "((0, 1, 2), (0, 1, 3), (4, 5, 6), (4, 6, 7), (2, 6, 7), (0, 2, 3), (1, 2, 3), (3, 4, 5))\n",
      "Found a P3-hat-free graph on at least 8 triangles and 8 vertices:\n",
      "((0, 1, 2), (0, 1, 3), (4, 5, 6), (4, 6, 7), (0, 2, 3), (1, 6, 7), (1, 2, 3), (3, 4, 5))\n",
      "Found a P3-hat-free graph on at least 8 triangles and 8 vertices:\n",
      "((0, 1, 2), (0, 1, 3), (4, 5, 6), (4, 6, 7), (2, 6, 7), (0, 2, 3), (1, 2, 3), (0, 4, 5))\n",
      "Found a P3-hat-free graph on at least 8 triangles and 8 vertices:\n",
      "((0, 1, 2), (0, 1, 3), (4, 5, 6), (4, 6, 7), (0, 2, 3), (1, 6, 7), (1, 2, 3), (0, 4, 5))\n",
      "Found a P3-hat-free graph on at least 8 triangles and 8 vertices:\n",
      "((0, 1, 2), (0, 1, 3), (4, 5, 6), (1, 4, 5), (3, 6, 7), (5, 6, 7), (0, 1, 5), (2, 6, 7))\n",
      "Found a P3-hat-free graph on at least 8 triangles and 8 vertices:\n",
      "((0, 1, 2), (0, 1, 3), (4, 5, 6), (1, 4, 5), (3, 6, 7), (5, 6, 7), (2, 6, 7), (0, 1, 4))\n",
      "Found a P3-hat-free graph on at least 8 triangles and 8 vertices:\n",
      "((0, 1, 2), (0, 1, 3), (4, 5, 6), (1, 4, 5), (0, 6, 7), (5, 6, 7), (0, 2, 3), (1, 2, 3))\n",
      "Found a P3-hat-free graph on at least 8 triangles and 8 vertices:\n",
      "((0, 1, 2), (0, 1, 3), (4, 5, 6), (1, 4, 5), (3, 6, 7), (5, 6, 7), (0, 2, 3), (1, 2, 3))\n",
      "Found a P3-hat-free graph on at least 8 triangles and 8 vertices:\n",
      "((0, 1, 2), (0, 1, 3), (4, 5, 6), (1, 4, 5), (1, 5, 6), (0, 2, 3), (1, 2, 3), (1, 4, 6))\n",
      "Found a P3-hat-free graph on at least 8 triangles and 8 vertices:\n",
      "((0, 1, 2), (0, 1, 3), (4, 5, 6), (1, 4, 5), (5, 6, 7), (2, 6, 7), (0, 2, 3), (1, 2, 3))\n",
      "Found a P3-hat-free graph on at least 8 triangles and 8 vertices:\n",
      "((0, 1, 2), (0, 1, 3), (4, 5, 6), (3, 4, 7), (0, 5, 6), (0, 2, 3), (4, 5, 7), (1, 2, 3))\n",
      "Found a P3-hat-free graph on at least 8 triangles and 8 vertices:\n",
      "((0, 1, 2), (0, 1, 3), (4, 5, 6), (3, 4, 7), (1, 5, 6), (0, 2, 3), (4, 5, 7), (1, 2, 3))\n",
      "Found a P3-hat-free graph on at least 8 triangles and 8 vertices:\n",
      "((0, 1, 2), (0, 1, 3), (4, 5, 6), (3, 4, 7), (2, 5, 6), (0, 2, 3), (4, 5, 7), (1, 2, 3))\n",
      "Found a P3-hat-free graph on at least 8 triangles and 8 vertices:\n",
      "((0, 1, 2), (0, 1, 3), (4, 5, 6), (2, 4, 5), (3, 6, 7), (5, 6, 7), (0, 2, 3), (1, 2, 3))\n",
      "Found a P3-hat-free graph on at least 8 triangles and 8 vertices:\n",
      "((0, 1, 2), (0, 1, 3), (4, 5, 6), (2, 4, 5), (0, 6, 7), (5, 6, 7), (0, 1, 7), (3, 4, 5))\n",
      "Found a P3-hat-free graph on at least 8 triangles and 8 vertices:\n",
      "((0, 1, 2), (0, 1, 3), (4, 5, 6), (2, 4, 5), (0, 6, 7), (5, 6, 7), (0, 2, 3), (1, 2, 3))\n",
      "Found a P3-hat-free graph on at least 8 triangles and 8 vertices:\n",
      "((0, 1, 2), (0, 1, 3), (4, 5, 6), (2, 4, 5), (5, 6, 7), (0, 2, 3), (1, 6, 7), (1, 2, 3))\n",
      "Found a P3-hat-free graph on at least 8 triangles and 8 vertices:\n",
      "((0, 1, 2), (0, 1, 3), (4, 5, 6), (2, 4, 5), (2, 5, 6), (0, 2, 3), (1, 2, 3), (2, 4, 6))\n",
      "Found a P3-hat-free graph on at least 8 triangles and 8 vertices:\n",
      "((0, 1, 2), (0, 1, 3), (4, 5, 6), (3, 6, 7), (5, 6, 7), (0, 1, 5), (2, 6, 7), (0, 4, 5))\n",
      "Found a P3-hat-free graph on at least 8 triangles and 8 vertices:\n",
      "((0, 1, 2), (0, 1, 3), (4, 5, 6), (3, 6, 7), (5, 6, 7), (2, 6, 7), (0, 1, 4), (0, 4, 5))\n",
      "Found a P3-hat-free graph on at least 8 triangles and 8 vertices:\n",
      "((0, 1, 2), (0, 1, 3), (4, 5, 6), (3, 6, 7), (5, 6, 7), (0, 2, 3), (1, 2, 3), (0, 4, 5))\n",
      "Found a P3-hat-free graph on at least 8 triangles and 8 vertices:\n",
      "((0, 1, 2), (0, 1, 3), (4, 5, 6), (0, 4, 7), (1, 5, 6), (0, 2, 3), (4, 5, 7), (1, 2, 3))\n",
      "Found a P3-hat-free graph on at least 8 triangles and 8 vertices:\n",
      "((0, 1, 2), (0, 1, 3), (4, 5, 6), (0, 4, 7), (2, 5, 6), (0, 2, 3), (4, 5, 7), (1, 2, 3))\n",
      "Found a P3-hat-free graph on at least 8 triangles and 8 vertices:\n",
      "((0, 1, 2), (0, 1, 3), (4, 5, 6), (0, 5, 6), (1, 4, 7), (0, 2, 3), (4, 5, 7), (1, 2, 3))\n",
      "Found a P3-hat-free graph on at least 8 triangles and 8 vertices:\n",
      "((0, 1, 2), (0, 1, 3), (4, 5, 6), (0, 5, 6), (0, 2, 3), (2, 4, 7), (4, 5, 7), (1, 2, 3))\n",
      "Found a P3-hat-free graph on at least 8 triangles and 8 vertices:\n",
      "((0, 1, 2), (0, 1, 3), (4, 5, 6), (0, 5, 6), (0, 2, 3), (0, 4, 6), (1, 2, 3), (0, 4, 5))\n",
      "Found a P3-hat-free graph on at least 8 triangles and 8 vertices:\n",
      "((0, 1, 2), (0, 1, 3), (4, 5, 6), (0, 6, 7), (5, 6, 7), (0, 2, 3), (1, 2, 3), (3, 4, 5))\n",
      "Found a P3-hat-free graph on at least 8 triangles and 8 vertices:\n",
      "((0, 1, 2), (0, 1, 3), (4, 5, 6), (1, 5, 6), (0, 2, 3), (2, 4, 7), (4, 5, 7), (1, 2, 3))\n",
      "Found a P3-hat-free graph on at least 8 triangles and 8 vertices:\n",
      "((0, 1, 2), (0, 1, 3), (4, 5, 6), (5, 6, 7), (2, 6, 7), (0, 2, 3), (1, 2, 3), (3, 4, 5))\n",
      "Found a P3-hat-free graph on at least 8 triangles and 8 vertices:\n",
      "((0, 1, 2), (0, 1, 3), (4, 5, 6), (5, 6, 7), (0, 2, 3), (1, 6, 7), (1, 2, 3), (3, 4, 5))\n",
      "Found a P3-hat-free graph on at least 8 triangles and 8 vertices:\n",
      "((0, 1, 2), (0, 1, 3), (4, 5, 6), (5, 6, 7), (0, 2, 3), (1, 6, 7), (1, 2, 3), (0, 4, 5))\n",
      "Found a P3-hat-free graph on at least 8 triangles and 8 vertices:\n",
      "((0, 1, 2), (0, 1, 3), (4, 5, 6), (5, 6, 7), (2, 6, 7), (0, 2, 3), (1, 2, 3), (0, 4, 5))\n",
      "Found a P3-hat-free graph on at least 8 triangles and 8 vertices:\n",
      "((0, 1, 2), (0, 1, 3), (4, 5, 6), (2, 5, 6), (1, 4, 7), (0, 2, 3), (4, 5, 7), (1, 2, 3))\n",
      "Found a P3-hat-free graph on at least 8 triangles and 8 vertices:\n",
      "((0, 1, 2), (0, 1, 3), (4, 5, 6), (0, 2, 3), (3, 5, 7), (4, 5, 7), (1, 2, 3), (1, 4, 6))\n",
      "Found a P3-hat-free graph on at least 8 triangles and 8 vertices:\n",
      "((0, 1, 2), (0, 1, 3), (4, 5, 6), (0, 2, 3), (0, 4, 6), (3, 5, 7), (4, 5, 7), (1, 2, 3))\n",
      "Found a P3-hat-free graph on at least 8 triangles and 8 vertices:\n",
      "((0, 1, 2), (0, 1, 3), (4, 5, 6), (0, 2, 3), (3, 5, 7), (4, 5, 7), (1, 2, 3), (2, 4, 6))\n",
      "Found a P3-hat-free graph on at least 8 triangles and 8 vertices:\n",
      "((0, 1, 2), (0, 1, 3), (4, 6, 7), (3, 4, 7), (3, 6, 7), (3, 4, 6), (0, 2, 3), (1, 2, 3))\n",
      "Found a P3-hat-free graph on at least 8 triangles and 8 vertices:\n",
      "((0, 1, 2), (0, 1, 3), (4, 6, 7), (3, 6, 7), (5, 6, 7), (0, 1, 5), (2, 6, 7), (0, 1, 4))\n",
      "Found a P3-hat-free graph on at least 8 triangles and 8 vertices:\n",
      "((0, 1, 2), (0, 1, 3), (4, 6, 7), (0, 4, 7), (0, 6, 7), (0, 2, 3), (0, 4, 6), (1, 2, 3))\n",
      "Found a P3-hat-free graph on at least 8 triangles and 8 vertices:\n",
      "((0, 1, 2), (0, 1, 3), (4, 6, 7), (2, 6, 7), (0, 2, 3), (2, 4, 7), (1, 2, 3), (2, 4, 6))\n",
      "Found a P3-hat-free graph on at least 8 triangles and 8 vertices:\n",
      "((0, 1, 2), (0, 1, 3), (4, 6, 7), (1, 4, 7), (0, 2, 3), (1, 6, 7), (1, 2, 3), (1, 4, 6))\n",
      "Found a P3-hat-free graph on at least 8 triangles and 8 vertices:\n",
      "((0, 1, 2), (0, 1, 3), (4, 6, 7), (0, 2, 3), (3, 5, 7), (4, 5, 7), (1, 2, 3), (1, 4, 6))\n",
      "Found a P3-hat-free graph on at least 8 triangles and 8 vertices:\n",
      "((0, 1, 2), (0, 1, 3), (4, 6, 7), (0, 2, 3), (0, 4, 6), (3, 5, 7), (4, 5, 7), (1, 2, 3))\n",
      "Found a P3-hat-free graph on at least 8 triangles and 8 vertices:\n",
      "((0, 1, 2), (0, 1, 3), (4, 6, 7), (0, 2, 3), (3, 5, 7), (4, 5, 7), (1, 2, 3), (2, 4, 6))\n",
      "Found a P3-hat-free graph on at least 8 triangles and 8 vertices:\n",
      "((0, 1, 2), (0, 1, 3), (1, 4, 5), (5, 6, 7), (2, 6, 7), (0, 2, 3), (4, 5, 7), (1, 2, 3))\n",
      "Found a P3-hat-free graph on at least 8 triangles and 8 vertices:\n",
      "((0, 1, 2), (0, 1, 3), (3, 4, 7), (5, 6, 7), (2, 5, 6), (0, 2, 3), (4, 5, 7), (1, 2, 3))\n",
      "Found a P3-hat-free graph on at least 8 triangles and 8 vertices:\n",
      "((0, 1, 2), (0, 1, 3), (3, 4, 7), (0, 2, 3), (3, 5, 7), (4, 5, 7), (1, 2, 3), (3, 4, 5))\n",
      "Found a P3-hat-free graph on at least 8 triangles and 8 vertices:\n",
      "((0, 1, 2), (0, 1, 3), (2, 4, 5), (5, 6, 7), (0, 2, 3), (1, 6, 7), (4, 5, 7), (1, 2, 3))\n",
      "Found a P3-hat-free graph on at least 8 triangles and 8 vertices:\n",
      "((0, 1, 2), (0, 1, 3), (0, 4, 7), (5, 6, 7), (2, 5, 6), (0, 2, 3), (4, 5, 7), (1, 2, 3))\n",
      "Found a P3-hat-free graph on at least 8 triangles and 8 vertices:\n",
      "((0, 1, 2), (0, 1, 3), (5, 6, 7), (2, 5, 6), (1, 4, 7), (0, 2, 3), (4, 5, 7), (1, 2, 3))\n",
      "Finished iteration.\n",
      "CPU times: user 3.42 s, sys: 374 ms, total: 3.79 s\n",
      "Wall time: 3min 41s\n"
     ]
    }
   ],
   "source": [
    "%%time\n",
    "!python triangle_count_parallel.py"
   ]
  },
  {
   "cell_type": "markdown",
   "id": "8840bb7f",
   "metadata": {},
   "source": [
    "### Check Output\n",
    "There are 99 different graphs generated.\n",
    "Apart from the bipartition with matching and the two $K_4$'s sharing a vertex, there are a few other interesting configurations, for example\n",
    "\n",
    "|![8,8-graph1](output-img/8-vertex-8-triangles-P3-hat-free-((0,1,2),(0,1,3),(0,1,6),(2,4,5),(5,6,7),(1,6,7),(4,5,7),(3,4,5)).png) |![8,8-graph2](output-img/8-vertex-8-triangles-P3-hat-free-((0,1,2),(0,1,3),(0,4,7),(5,6,7),(2,5,6),(0,2,3),(4,5,7),(1,2,3)).png)|\n",
    "|-|-|\n",
    "\n",
    "These look like intermediate graphs which have one or two edges differing from the two standard constructions.\n",
    "\n",
    "For the full list of output graphs, please check the `output-img` directory."
   ]
  },
  {
   "cell_type": "markdown",
   "id": "60932174",
   "metadata": {},
   "source": [
    "## 4b. $n=8, t=9$\n",
    "Enumerate all graphs on 8 vertices and 9 triangles.\n",
    "This is the most computationally intensive one and takes the longest to run."
   ]
  },
  {
   "cell_type": "code",
   "execution_count": 8,
   "id": "1451b650",
   "metadata": {},
   "outputs": [
    {
     "name": "stdout",
     "output_type": "stream",
     "text": [
      "Generating all graphs with 8 vertices and 9 triangles (including 012, 013)\n",
      "Removed triangles: {(0, 3, 6) (1, 2, 5) (1, 3, 6) (0, 2, 7) (0, 2, 4) (0, 3, 5) (1, 2, 4) (1, 2, 7) (1, 3, 5) (0, 2, 6) (0, 3, 7) (0, 3, 4) (1, 2, 6) (1, 3, 4) (1, 3, 7) (0, 2, 5) }\n",
      "Available triangles: {(0, 5, 7), (3, 5, 6), (1, 5, 7), (0, 1, 6), (2, 5, 7), (4, 5, 6), (4, 6, 7), (1, 4, 5), (3, 4, 7), (2, 4, 5), (3, 6, 7), (2, 3, 6), (0, 4, 7), (0, 5, 6), (0, 6, 7), (1, 5, 6), (5, 6, 7), (0, 1, 5), (2, 5, 6), (2, 6, 7), (3, 4, 6), (1, 4, 7), (0, 2, 3), (2, 4, 7), (2, 3, 5), (0, 4, 6), (1, 6, 7), (3, 5, 7), (0, 1, 4), (0, 1, 7), (4, 5, 7), (1, 2, 3), (1, 4, 6), (3, 4, 5), (2, 3, 4), (2, 3, 7), (2, 4, 6), (0, 4, 5)}\n",
      "Generated 12620256 many graphs.\n",
      "Finished iteration.\n",
      "CPU times: user 16.2 s, sys: 1.86 s, total: 18 s\n",
      "Wall time: 17min 54s\n"
     ]
    }
   ],
   "source": [
    "%%time\n",
    "!python triangle_count_parallel.py"
   ]
  },
  {
   "cell_type": "code",
   "execution_count": 10,
   "id": "75173a0b",
   "metadata": {},
   "outputs": [
    {
     "name": "stdout",
     "output_type": "stream",
     "text": [
      "Model name:                      Intel(R) Core(TM) i7-8550U CPU @ 1.80GHz\r\n"
     ]
    }
   ],
   "source": [
    "!lscpu | grep Model\\ name"
   ]
  },
  {
   "cell_type": "code",
   "execution_count": null,
   "id": "2b0d1477",
   "metadata": {},
   "outputs": [],
   "source": []
  }
 ],
 "metadata": {
  "kernelspec": {
   "display_name": "Python 3 (ipykernel)",
   "language": "python",
   "name": "python3"
  },
  "language_info": {
   "codemirror_mode": {
    "name": "ipython",
    "version": 3
   },
   "file_extension": ".py",
   "mimetype": "text/x-python",
   "name": "python",
   "nbconvert_exporter": "python",
   "pygments_lexer": "ipython3",
   "version": "3.9.13"
  }
 },
 "nbformat": 4,
 "nbformat_minor": 5
}
